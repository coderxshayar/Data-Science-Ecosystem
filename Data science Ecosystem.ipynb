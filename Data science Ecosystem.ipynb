{
 "cells": [
  {
   "cell_type": "markdown",
   "id": "82423923",
   "metadata": {},
   "source": [
    "# Data science Tools and Ecosystem"
   ]
  },
  {
   "cell_type": "markdown",
   "id": "918cf5ea",
   "metadata": {},
   "source": [
    "In this Notebook, Data science Tools and Ecosystem are summarised"
   ]
  },
  {
   "cell_type": "markdown",
   "id": "cf2c14f9",
   "metadata": {},
   "source": [
    " **Objectives:**\n",
    "\n",
    "* List popular languages for data science\n",
    "* List commonly used libraries in Data science\n",
    "* List Data science Tools\n",
    "* Evaluating some Arithmetic expressions\n"
   ]
  },
  {
   "cell_type": "markdown",
   "id": "a38b986c",
   "metadata": {},
   "source": [
    "some of the popular languages that data scientists uses are:\n",
    "\n",
    "1. Python\n",
    "2. R\n",
    "3. SQL\n",
    "4. Scala\n"
   ]
  },
  {
   "cell_type": "markdown",
   "id": "118c84c2",
   "metadata": {},
   "source": [
    "Some of the commonly used libraries used by Data Scientists include:\n",
    "    \n",
    "1. python Libraries :\n",
    "   1. Pandas\n",
    "   2. NUmpy\n",
    "   3. Matplotlib\n",
    "   4. Seaborn\n",
    "   5. Scikitlearn\n",
    "   6. keras\n",
    "   7. Tensorflow\n",
    "   8. Pytorch\n",
    "   \n",
    "2. Scala Libraries :\n",
    "   1. VEGAS\n",
    "   2. BigDL\n",
    "   \n",
    "3. R Libraries :\n",
    "   1. ggplot2\n",
    "   "
   ]
  },
  {
   "cell_type": "markdown",
   "id": "56abc26b",
   "metadata": {},
   "source": [
    "|Data Science Tools|\n",
    "|------------------|\n",
    "|Jupyter Notebook|\n",
    "|R studio|\n",
    "|Apache hadoop|"
   ]
  },
  {
   "cell_type": "markdown",
   "id": "f9f6d915",
   "metadata": {},
   "source": [
    "### Below are a few examples of evaluating arithmetic expressions in Python"
   ]
  },
  {
   "cell_type": "code",
   "execution_count": 3,
   "id": "db5f6bd3",
   "metadata": {},
   "outputs": [
    {
     "data": {
      "text/plain": [
       "17"
      ]
     },
     "execution_count": 3,
     "metadata": {},
     "output_type": "execute_result"
    }
   ],
   "source": [
    "#This a simple arithmetic expression to mutiply then add integers\n",
    "(3*4)+5"
   ]
  },
  {
   "cell_type": "code",
   "execution_count": 4,
   "id": "f848120f",
   "metadata": {},
   "outputs": [],
   "source": [
    "#This will convert 200 minutes to hours by diving by 60.\n",
    "#hours= minutes/60\n",
    "hours = 200/60\n"
   ]
  },
  {
   "cell_type": "code",
   "execution_count": 5,
   "id": "59a599eb",
   "metadata": {},
   "outputs": [
    {
     "data": {
      "text/plain": [
       "3.3333333333333335"
      ]
     },
     "execution_count": 5,
     "metadata": {},
     "output_type": "execute_result"
    }
   ],
   "source": [
    "hours"
   ]
  },
  {
   "cell_type": "markdown",
   "id": "01ad6b2e",
   "metadata": {},
   "source": [
    "## Author\n",
    "Abhijit Kumar Sinha"
   ]
  },
  {
   "cell_type": "code",
   "execution_count": null,
   "id": "ff68c211",
   "metadata": {},
   "outputs": [],
   "source": []
  }
 ],
 "metadata": {
  "kernelspec": {
   "display_name": "Python 3 (ipykernel)",
   "language": "python",
   "name": "python3"
  },
  "language_info": {
   "codemirror_mode": {
    "name": "ipython",
    "version": 3
   },
   "file_extension": ".py",
   "mimetype": "text/x-python",
   "name": "python",
   "nbconvert_exporter": "python",
   "pygments_lexer": "ipython3",
   "version": "3.9.13"
  }
 },
 "nbformat": 4,
 "nbformat_minor": 5
}
